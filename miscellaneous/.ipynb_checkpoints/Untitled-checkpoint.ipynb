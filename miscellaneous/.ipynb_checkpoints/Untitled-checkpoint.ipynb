{
 "cells": [
  {
   "cell_type": "code",
   "execution_count": 2,
   "id": "c1fb28fc-ef56-414e-9766-e141110aef40",
   "metadata": {},
   "outputs": [],
   "source": [
    "import pandas as pd\n",
    "import os"
   ]
  },
  {
   "cell_type": "code",
   "execution_count": 7,
   "id": "8b44c6f1-3b34-4dfb-b61c-0537f5716ef6",
   "metadata": {},
   "outputs": [
    {
     "name": "stdout",
     "output_type": "stream",
     "text": [
      "['Untitled.ipynb', 'README.md', '.ipynb_checkpoints', '.git', 'LittleLemon_data.xlsx']\n"
     ]
    }
   ],
   "source": [
    "print(os.listdir(\".\"))"
   ]
  },
  {
   "cell_type": "code",
   "execution_count": 8,
   "id": "1c3e46d5-461c-4922-b3ac-b749e65b99a0",
   "metadata": {},
   "outputs": [],
   "source": [
    "dat_files = [ f for f in os.listdir(\".\") if f.endswith(\".xlsx\") ] "
   ]
  },
  {
   "cell_type": "code",
   "execution_count": 16,
   "id": "3548e534-29e1-412f-bc10-2419e8410c8d",
   "metadata": {},
   "outputs": [],
   "source": [
    "data = pd.read_excel(dat_files[0])"
   ]
  },
  {
   "cell_type": "code",
   "execution_count": 18,
   "id": "10906711-1017-4ab9-b05d-d93dfda9b965",
   "metadata": {},
   "outputs": [],
   "source": [
    "menu_items = data[[\"Course Name\", \"Starter Name\", \"Desert Name\", \"Drink\", \"Sides\", \"Cuisine Name\"]]"
   ]
  },
  {
   "cell_type": "code",
   "execution_count": 19,
   "id": "807e8c97-11c2-4d8f-b316-f5538ae6a5de",
   "metadata": {},
   "outputs": [
    {
     "data": {
      "text/html": [
       "<div>\n",
       "<style scoped>\n",
       "    .dataframe tbody tr th:only-of-type {\n",
       "        vertical-align: middle;\n",
       "    }\n",
       "\n",
       "    .dataframe tbody tr th {\n",
       "        vertical-align: top;\n",
       "    }\n",
       "\n",
       "    .dataframe thead th {\n",
       "        text-align: right;\n",
       "    }\n",
       "</style>\n",
       "<table border=\"1\" class=\"dataframe\">\n",
       "  <thead>\n",
       "    <tr style=\"text-align: right;\">\n",
       "      <th></th>\n",
       "      <th>Course Name</th>\n",
       "      <th>Starter Name</th>\n",
       "      <th>Desert Name</th>\n",
       "      <th>Drink</th>\n",
       "      <th>Sides</th>\n",
       "      <th>Cuisine Name</th>\n",
       "    </tr>\n",
       "  </thead>\n",
       "  <tbody>\n",
       "    <tr>\n",
       "      <th>0</th>\n",
       "      <td>Greek salad</td>\n",
       "      <td>Olives</td>\n",
       "      <td>Greek yoghurt</td>\n",
       "      <td>Athens White wine</td>\n",
       "      <td>Tapas</td>\n",
       "      <td>Greek</td>\n",
       "    </tr>\n",
       "    <tr>\n",
       "      <th>1</th>\n",
       "      <td>Bean soup</td>\n",
       "      <td>Flatbread</td>\n",
       "      <td>Ice cream</td>\n",
       "      <td>Corfu Red Wine</td>\n",
       "      <td>Potato salad</td>\n",
       "      <td>Italian</td>\n",
       "    </tr>\n",
       "    <tr>\n",
       "      <th>2</th>\n",
       "      <td>Pizza</td>\n",
       "      <td>Minestrone</td>\n",
       "      <td>Cheesecake</td>\n",
       "      <td>Italian Coffee</td>\n",
       "      <td>Bruschetta</td>\n",
       "      <td>Italian</td>\n",
       "    </tr>\n",
       "    <tr>\n",
       "      <th>3</th>\n",
       "      <td>Carbonara</td>\n",
       "      <td>Tomato bread</td>\n",
       "      <td>Affogato</td>\n",
       "      <td>Roma Red wine</td>\n",
       "      <td>Focaccia</td>\n",
       "      <td>Turkish</td>\n",
       "    </tr>\n",
       "    <tr>\n",
       "      <th>4</th>\n",
       "      <td>Kabasa</td>\n",
       "      <td>Falafel</td>\n",
       "      <td>Turkish yoghurt</td>\n",
       "      <td>Ankara White Wine</td>\n",
       "      <td>Meatballs</td>\n",
       "      <td>Greek</td>\n",
       "    </tr>\n",
       "    <tr>\n",
       "      <th>...</th>\n",
       "      <td>...</td>\n",
       "      <td>...</td>\n",
       "      <td>...</td>\n",
       "      <td>...</td>\n",
       "      <td>...</td>\n",
       "      <td>...</td>\n",
       "    </tr>\n",
       "    <tr>\n",
       "      <th>20995</th>\n",
       "      <td>Shwarma</td>\n",
       "      <td>Flatbread</td>\n",
       "      <td>Baklava</td>\n",
       "      <td>Turkish Coffee</td>\n",
       "      <td>Fries</td>\n",
       "      <td>Turkish</td>\n",
       "    </tr>\n",
       "    <tr>\n",
       "      <th>20996</th>\n",
       "      <td>Greek salad</td>\n",
       "      <td>Minestrone</td>\n",
       "      <td>Greek yoghurt</td>\n",
       "      <td>Athens White wine</td>\n",
       "      <td>Tapas</td>\n",
       "      <td>Greek</td>\n",
       "    </tr>\n",
       "    <tr>\n",
       "      <th>20997</th>\n",
       "      <td>Bean soup</td>\n",
       "      <td>Tomato bread</td>\n",
       "      <td>Ice cream</td>\n",
       "      <td>Corfu Red Wine</td>\n",
       "      <td>Potato salad</td>\n",
       "      <td>Italian</td>\n",
       "    </tr>\n",
       "    <tr>\n",
       "      <th>20998</th>\n",
       "      <td>Pizza</td>\n",
       "      <td>Falafel</td>\n",
       "      <td>Cheesecake</td>\n",
       "      <td>Italian Coffee</td>\n",
       "      <td>Bruschetta</td>\n",
       "      <td>Italian</td>\n",
       "    </tr>\n",
       "    <tr>\n",
       "      <th>20999</th>\n",
       "      <td>Carbonara</td>\n",
       "      <td>Hummus</td>\n",
       "      <td>Affogato</td>\n",
       "      <td>Roma Red wine</td>\n",
       "      <td>Focaccia</td>\n",
       "      <td>Turkish</td>\n",
       "    </tr>\n",
       "  </tbody>\n",
       "</table>\n",
       "<p>21000 rows × 6 columns</p>\n",
       "</div>"
      ],
      "text/plain": [
       "       Course Name  Starter Name      Desert Name              Drink  \\\n",
       "0      Greek salad        Olives    Greek yoghurt  Athens White wine   \n",
       "1        Bean soup     Flatbread        Ice cream     Corfu Red Wine   \n",
       "2            Pizza    Minestrone       Cheesecake     Italian Coffee   \n",
       "3        Carbonara  Tomato bread         Affogato      Roma Red wine   \n",
       "4           Kabasa       Falafel  Turkish yoghurt  Ankara White Wine   \n",
       "...            ...           ...              ...                ...   \n",
       "20995      Shwarma     Flatbread          Baklava     Turkish Coffee   \n",
       "20996  Greek salad    Minestrone    Greek yoghurt  Athens White wine   \n",
       "20997    Bean soup  Tomato bread        Ice cream     Corfu Red Wine   \n",
       "20998        Pizza       Falafel       Cheesecake     Italian Coffee   \n",
       "20999    Carbonara        Hummus         Affogato      Roma Red wine   \n",
       "\n",
       "              Sides Cuisine Name  \n",
       "0             Tapas        Greek  \n",
       "1      Potato salad      Italian  \n",
       "2        Bruschetta      Italian  \n",
       "3          Focaccia      Turkish  \n",
       "4         Meatballs        Greek  \n",
       "...             ...          ...  \n",
       "20995         Fries      Turkish  \n",
       "20996         Tapas        Greek  \n",
       "20997  Potato salad      Italian  \n",
       "20998    Bruschetta      Italian  \n",
       "20999      Focaccia      Turkish  \n",
       "\n",
       "[21000 rows x 6 columns]"
      ]
     },
     "execution_count": 19,
     "metadata": {},
     "output_type": "execute_result"
    }
   ],
   "source": [
    "menu_items"
   ]
  },
  {
   "cell_type": "code",
   "execution_count": 26,
   "id": "503bdefe-d61c-4bcf-8712-63e748ecee49",
   "metadata": {},
   "outputs": [
    {
     "data": {
      "text/plain": [
       "array(['Greek salad', 'Bean soup', 'Pizza', 'Carbonara', 'Kabasa',\n",
       "       'Shwarma'], dtype=object)"
      ]
     },
     "execution_count": 26,
     "metadata": {},
     "output_type": "execute_result"
    }
   ],
   "source": [
    "menu_items['Course Name'].unique()"
   ]
  },
  {
   "cell_type": "code",
   "execution_count": 27,
   "id": "1b87d431-bc8b-48bd-8811-14fb82584346",
   "metadata": {},
   "outputs": [
    {
     "data": {
      "text/plain": [
       "array(['Greek yoghurt', 'Ice cream', 'Cheesecake', 'Affogato',\n",
       "       'Turkish yoghurt', 'Baklava'], dtype=object)"
      ]
     },
     "execution_count": 27,
     "metadata": {},
     "output_type": "execute_result"
    }
   ],
   "source": [
    "menu_items['Desert Name'].unique()"
   ]
  },
  {
   "cell_type": "code",
   "execution_count": 28,
   "id": "438740c5-92cc-4dd9-a978-0e01605bb80c",
   "metadata": {},
   "outputs": [
    {
     "data": {
      "text/plain": [
       "array(['Athens White wine', 'Corfu Red Wine', 'Italian Coffee',\n",
       "       'Roma Red wine', 'Ankara White Wine', 'Turkish Coffee'],\n",
       "      dtype=object)"
      ]
     },
     "execution_count": 28,
     "metadata": {},
     "output_type": "execute_result"
    }
   ],
   "source": [
    "menu_items['Drink'].unique()"
   ]
  },
  {
   "cell_type": "code",
   "execution_count": 29,
   "id": "80ad0d33-6ede-4517-94ec-31821541be00",
   "metadata": {},
   "outputs": [
    {
     "data": {
      "text/plain": [
       "array(['Tapas', 'Potato salad', 'Bruschetta', 'Focaccia', 'Meatballs',\n",
       "       'Fries'], dtype=object)"
      ]
     },
     "execution_count": 29,
     "metadata": {},
     "output_type": "execute_result"
    }
   ],
   "source": [
    "menu_items['Sides'].unique()"
   ]
  },
  {
   "cell_type": "code",
   "execution_count": 31,
   "id": "a9847ccd-9377-425d-ae1a-b68b7b229313",
   "metadata": {},
   "outputs": [
    {
     "data": {
      "text/plain": [
       "array(['Olives', 'Flatbread', 'Minestrone', 'Tomato bread', 'Falafel',\n",
       "       'Hummus'], dtype=object)"
      ]
     },
     "execution_count": 31,
     "metadata": {},
     "output_type": "execute_result"
    }
   ],
   "source": [
    "menu_items['Starter Name'].unique()"
   ]
  },
  {
   "cell_type": "code",
   "execution_count": null,
   "id": "47c1e7cc-11f4-4bd1-aad5-85ee2dfac604",
   "metadata": {},
   "outputs": [],
   "source": []
  }
 ],
 "metadata": {
  "kernelspec": {
   "display_name": "Python 3 (ipykernel)",
   "language": "python",
   "name": "python3"
  },
  "language_info": {
   "codemirror_mode": {
    "name": "ipython",
    "version": 3
   },
   "file_extension": ".py",
   "mimetype": "text/x-python",
   "name": "python",
   "nbconvert_exporter": "python",
   "pygments_lexer": "ipython3",
   "version": "3.9.18"
  }
 },
 "nbformat": 4,
 "nbformat_minor": 5
}
