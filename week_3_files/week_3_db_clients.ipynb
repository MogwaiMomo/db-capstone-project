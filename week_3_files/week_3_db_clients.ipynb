{
 "cells": [
  {
   "cell_type": "code",
   "execution_count": 1,
   "id": "002abb84-5c63-43a2-a6b5-23ef967743d5",
   "metadata": {},
   "outputs": [
    {
     "name": "stdout",
     "output_type": "stream",
     "text": [
      "Intel MKL WARNING: Support of Intel(R) Streaming SIMD Extensions 4.2 (Intel(R) SSE4.2) enabled only processors has been deprecated. Intel oneAPI Math Kernel Library 2025.0 will require Intel(R) Advanced Vector Extensions (Intel(R) AVX) instructions.\n",
      "Intel MKL WARNING: Support of Intel(R) Streaming SIMD Extensions 4.2 (Intel(R) SSE4.2) enabled only processors has been deprecated. Intel oneAPI Math Kernel Library 2025.0 will require Intel(R) Advanced Vector Extensions (Intel(R) AVX) instructions.\n"
     ]
    }
   ],
   "source": [
    "import pandas as pd\n",
    "import mysql.connector as connector\n",
    "import helpers\n",
    "\n",
    "from importlib import reload\n",
    "\n",
    "helpers = reload(helpers)"
   ]
  },
  {
   "cell_type": "code",
   "execution_count": 2,
   "id": "b8706c8a-4f71-4c68-89ac-b3a4250e15ea",
   "metadata": {},
   "outputs": [
    {
     "name": "stdout",
     "output_type": "stream",
     "text": [
      "Connected successfully.\n",
      "\n"
     ]
    }
   ],
   "source": [
    "connection, cursor = helpers.root_connect(connector)"
   ]
  },
  {
   "cell_type": "code",
   "execution_count": 5,
   "id": "70b13cf0-91b1-496b-b322-f13f2c5774a9",
   "metadata": {},
   "outputs": [
    {
     "name": "stdout",
     "output_type": "stream",
     "text": [
      "\n",
      "Available databases:\n",
      "{'Database': 'excel_data'}\n",
      "{'Database': 'information_schema'}\n",
      "{'Database': 'LittleLemonDB'}\n",
      "{'Database': 'mysql'}\n",
      "{'Database': 'performance_schema'}\n",
      "{'Database': 'sys'}\n",
      "\n",
      "Database in use:\n",
      "littlelemondb\n"
     ]
    }
   ],
   "source": [
    "helpers.show_dbs(connection, cursor)"
   ]
  },
  {
   "cell_type": "code",
   "execution_count": 4,
   "id": "1c531297-e554-4bbd-88b8-e87144d75a1d",
   "metadata": {},
   "outputs": [],
   "source": [
    "cursor.execute(\"USE LittleLemonDB\")"
   ]
  },
  {
   "cell_type": "code",
   "execution_count": 10,
   "id": "0833267e-3be5-4504-a8a7-452d4b219495",
   "metadata": {},
   "outputs": [],
   "source": [
    "cursor.execute(\"\"\"SHOW TABLES;\"\"\")"
   ]
  },
  {
   "cell_type": "code",
   "execution_count": 11,
   "id": "2a23f05d-11b9-411b-ba7c-61c250e5cc2e",
   "metadata": {},
   "outputs": [],
   "source": [
    "tables = cursor.fetchall()"
   ]
  },
  {
   "cell_type": "code",
   "execution_count": 28,
   "id": "104c2a26-70f8-4fb2-876d-0df10cf1122e",
   "metadata": {},
   "outputs": [],
   "source": [
    "cursor.execute(\"\"\"SELECT *\n",
    "FROM Customers\n",
    "JOIN Orders\n",
    "ON Customers.CustomerID = Orders.CustomerID\n",
    "WHERE Sales > 60;\"\"\")\n"
   ]
  },
  {
   "cell_type": "code",
   "execution_count": 29,
   "id": "8c1db1c0-9a9f-4475-927a-f09a67624930",
   "metadata": {},
   "outputs": [],
   "source": [
    "result = cursor.fetchall()"
   ]
  },
  {
   "cell_type": "code",
   "execution_count": 30,
   "id": "1af403c3-3cf5-4102-ac80-8f4d857399ba",
   "metadata": {},
   "outputs": [
    {
     "data": {
      "text/html": [
       "<div>\n",
       "<style scoped>\n",
       "    .dataframe tbody tr th:only-of-type {\n",
       "        vertical-align: middle;\n",
       "    }\n",
       "\n",
       "    .dataframe tbody tr th {\n",
       "        vertical-align: top;\n",
       "    }\n",
       "\n",
       "    .dataframe thead th {\n",
       "        text-align: right;\n",
       "    }\n",
       "</style>\n",
       "<table border=\"1\" class=\"dataframe\">\n",
       "  <thead>\n",
       "    <tr style=\"text-align: right;\">\n",
       "      <th></th>\n",
       "      <th>CustomerID</th>\n",
       "      <th>CustomerName</th>\n",
       "      <th>OrderDate</th>\n",
       "      <th>OrderID</th>\n",
       "      <th>LocationID</th>\n",
       "      <th>MenuID</th>\n",
       "      <th>Cost</th>\n",
       "      <th>Sales</th>\n",
       "      <th>Quantity</th>\n",
       "      <th>Discount</th>\n",
       "    </tr>\n",
       "  </thead>\n",
       "  <tbody>\n",
       "    <tr>\n",
       "      <th>0</th>\n",
       "      <td>21-950-4765</td>\n",
       "      <td>Gale Reeves</td>\n",
       "      <td>2021-02-04</td>\n",
       "      <td>64-446-6092</td>\n",
       "      <td>1</td>\n",
       "      <td>17</td>\n",
       "      <td>44.57</td>\n",
       "      <td>66.86</td>\n",
       "      <td>3</td>\n",
       "      <td>73.09</td>\n",
       "    </tr>\n",
       "    <tr>\n",
       "      <th>1</th>\n",
       "      <td>38-029-8372</td>\n",
       "      <td>Sherye Christmas</td>\n",
       "      <td>2019-06-14</td>\n",
       "      <td>90-256-2320</td>\n",
       "      <td>2</td>\n",
       "      <td>22</td>\n",
       "      <td>144.09</td>\n",
       "      <td>216.14</td>\n",
       "      <td>2</td>\n",
       "      <td>94.76</td>\n",
       "    </tr>\n",
       "    <tr>\n",
       "      <th>2</th>\n",
       "      <td>77-348-8809</td>\n",
       "      <td>Lorna Bogart</td>\n",
       "      <td>2020-11-30</td>\n",
       "      <td>37-255-6435</td>\n",
       "      <td>3</td>\n",
       "      <td>52</td>\n",
       "      <td>101.60</td>\n",
       "      <td>152.40</td>\n",
       "      <td>3</td>\n",
       "      <td>31.20</td>\n",
       "    </tr>\n",
       "    <tr>\n",
       "      <th>3</th>\n",
       "      <td>72-055-7985</td>\n",
       "      <td>Laney Fadden</td>\n",
       "      <td>2020-06-15</td>\n",
       "      <td>54-366-6861</td>\n",
       "      <td>4</td>\n",
       "      <td>1</td>\n",
       "      <td>125.00</td>\n",
       "      <td>187.50</td>\n",
       "      <td>2</td>\n",
       "      <td>20.00</td>\n",
       "    </tr>\n",
       "    <tr>\n",
       "      <th>4</th>\n",
       "      <td>97-361-6034</td>\n",
       "      <td>Natka Featenby</td>\n",
       "      <td>2020-12-26</td>\n",
       "      <td>99-679-0062</td>\n",
       "      <td>5</td>\n",
       "      <td>23</td>\n",
       "      <td>101.60</td>\n",
       "      <td>152.40</td>\n",
       "      <td>1</td>\n",
       "      <td>20.00</td>\n",
       "    </tr>\n",
       "    <tr>\n",
       "      <th>...</th>\n",
       "      <td>...</td>\n",
       "      <td>...</td>\n",
       "      <td>...</td>\n",
       "      <td>...</td>\n",
       "      <td>...</td>\n",
       "      <td>...</td>\n",
       "      <td>...</td>\n",
       "      <td>...</td>\n",
       "      <td>...</td>\n",
       "      <td>...</td>\n",
       "    </tr>\n",
       "    <tr>\n",
       "      <th>20995</th>\n",
       "      <td>67-746-6460</td>\n",
       "      <td>Ara McWard</td>\n",
       "      <td>2020-07-01</td>\n",
       "      <td>72-306-1723</td>\n",
       "      <td>20996</td>\n",
       "      <td>68</td>\n",
       "      <td>125.00</td>\n",
       "      <td>187.50</td>\n",
       "      <td>3</td>\n",
       "      <td>10.00</td>\n",
       "    </tr>\n",
       "    <tr>\n",
       "      <th>20996</th>\n",
       "      <td>44-431-8932</td>\n",
       "      <td>Elvira Beverstock</td>\n",
       "      <td>2021-05-03</td>\n",
       "      <td>53-622-3155</td>\n",
       "      <td>20997</td>\n",
       "      <td>69</td>\n",
       "      <td>235.00</td>\n",
       "      <td>352.50</td>\n",
       "      <td>3</td>\n",
       "      <td>53.53</td>\n",
       "    </tr>\n",
       "    <tr>\n",
       "      <th>20997</th>\n",
       "      <td>82-729-5605</td>\n",
       "      <td>Westbrooke Blindt</td>\n",
       "      <td>2020-11-21</td>\n",
       "      <td>03-568-8174</td>\n",
       "      <td>20998</td>\n",
       "      <td>70</td>\n",
       "      <td>75.00</td>\n",
       "      <td>112.50</td>\n",
       "      <td>2</td>\n",
       "      <td>23.00</td>\n",
       "    </tr>\n",
       "    <tr>\n",
       "      <th>20998</th>\n",
       "      <td>77-869-4945</td>\n",
       "      <td>Maribelle Allcroft</td>\n",
       "      <td>2019-10-05</td>\n",
       "      <td>05-318-1801</td>\n",
       "      <td>20999</td>\n",
       "      <td>71</td>\n",
       "      <td>220.00</td>\n",
       "      <td>330.00</td>\n",
       "      <td>1</td>\n",
       "      <td>73.09</td>\n",
       "    </tr>\n",
       "    <tr>\n",
       "      <th>20999</th>\n",
       "      <td>53-704-6388</td>\n",
       "      <td>Roosevelt Grigg</td>\n",
       "      <td>2020-09-01</td>\n",
       "      <td>26-802-1005</td>\n",
       "      <td>21000</td>\n",
       "      <td>72</td>\n",
       "      <td>320.00</td>\n",
       "      <td>480.00</td>\n",
       "      <td>2</td>\n",
       "      <td>20.33</td>\n",
       "    </tr>\n",
       "  </tbody>\n",
       "</table>\n",
       "<p>21000 rows × 10 columns</p>\n",
       "</div>"
      ],
      "text/plain": [
       "        CustomerID        CustomerName   OrderDate      OrderID  LocationID  \\\n",
       "0      21-950-4765         Gale Reeves  2021-02-04  64-446-6092           1   \n",
       "1      38-029-8372    Sherye Christmas  2019-06-14  90-256-2320           2   \n",
       "2      77-348-8809        Lorna Bogart  2020-11-30  37-255-6435           3   \n",
       "3      72-055-7985        Laney Fadden  2020-06-15  54-366-6861           4   \n",
       "4      97-361-6034      Natka Featenby  2020-12-26  99-679-0062           5   \n",
       "...            ...                 ...         ...          ...         ...   \n",
       "20995  67-746-6460          Ara McWard  2020-07-01  72-306-1723       20996   \n",
       "20996  44-431-8932   Elvira Beverstock  2021-05-03  53-622-3155       20997   \n",
       "20997  82-729-5605   Westbrooke Blindt  2020-11-21  03-568-8174       20998   \n",
       "20998  77-869-4945  Maribelle Allcroft  2019-10-05  05-318-1801       20999   \n",
       "20999  53-704-6388     Roosevelt Grigg  2020-09-01  26-802-1005       21000   \n",
       "\n",
       "       MenuID    Cost   Sales  Quantity Discount  \n",
       "0          17   44.57   66.86         3    73.09  \n",
       "1          22  144.09  216.14         2    94.76  \n",
       "2          52  101.60  152.40         3    31.20  \n",
       "3           1  125.00  187.50         2    20.00  \n",
       "4          23  101.60  152.40         1    20.00  \n",
       "...       ...     ...     ...       ...      ...  \n",
       "20995      68  125.00  187.50         3    10.00  \n",
       "20996      69  235.00  352.50         3    53.53  \n",
       "20997      70   75.00  112.50         2    23.00  \n",
       "20998      71  220.00  330.00         1    73.09  \n",
       "20999      72  320.00  480.00         2    20.33  \n",
       "\n",
       "[21000 rows x 10 columns]"
      ]
     },
     "execution_count": 30,
     "metadata": {},
     "output_type": "execute_result"
    }
   ],
   "source": [
    "pd.DataFrame(result)"
   ]
  }
 ],
 "metadata": {
  "kernelspec": {
   "display_name": "Python 3 (ipykernel)",
   "language": "python",
   "name": "python3"
  },
  "language_info": {
   "codemirror_mode": {
    "name": "ipython",
    "version": 3
   },
   "file_extension": ".py",
   "mimetype": "text/x-python",
   "name": "python",
   "nbconvert_exporter": "python",
   "pygments_lexer": "ipython3",
   "version": "3.9.18"
  }
 },
 "nbformat": 4,
 "nbformat_minor": 5
}
